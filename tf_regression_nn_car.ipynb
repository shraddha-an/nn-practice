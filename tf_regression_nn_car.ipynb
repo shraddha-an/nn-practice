{
  "nbformat": 4,
  "nbformat_minor": 0,
  "metadata": {
    "colab": {
      "name": "tf_regression_nn_car.ipynb",
      "provenance": [],
      "collapsed_sections": [],
      "authorship_tag": "ABX9TyPgATGFB/liYwUGXiPt1vFl",
      "include_colab_link": true
    },
    "kernelspec": {
      "name": "python3",
      "display_name": "Python 3"
    }
  },
  "cells": [
    {
      "cell_type": "markdown",
      "metadata": {
        "id": "view-in-github",
        "colab_type": "text"
      },
      "source": [
        "<a href=\"https://colab.research.google.com/github/shraddha-an/nn-practice/blob/main/tf_regression_nn_car.ipynb\" target=\"_parent\"><img src=\"https://colab.research.google.com/assets/colab-badge.svg\" alt=\"Open In Colab\"/></a>"
      ]
    },
    {
      "cell_type": "markdown",
      "metadata": {
        "id": "A2XxoWkr9_bi"
      },
      "source": [
        "# **TensorFlow Regression Neural Network**"
      ]
    },
    {
      "cell_type": "code",
      "metadata": {
        "id": "2-fpc6Hh99G8"
      },
      "source": [
        "# Importing libraries\n",
        "# Data Manipulation/Handling\n",
        "import pandas as pd\n",
        "import numpy as np\n",
        "\n",
        "# Time\n",
        "from datetime import datetime as dt\n",
        "\n",
        "# TensorFlow\n",
        "import tensorflow as tf\n",
        "\n",
        "# Plotting \n",
        "import matplotlib.pyplot as plt\n",
        "import seaborn as sb"
      ],
      "execution_count": null,
      "outputs": []
    },
    {
      "cell_type": "code",
      "metadata": {
        "colab": {
          "base_uri": "https://localhost:8080/",
          "height": 204
        },
        "id": "-EP3Xt2q-SxJ",
        "outputId": "f46ed2e8-646c-478a-936b-9a287eef6e14"
      },
      "source": [
        "# Importing dataset\n",
        "ds = pd.read_csv('car_data.csv')\n",
        "ds.head()"
      ],
      "execution_count": null,
      "outputs": [
        {
          "output_type": "execute_result",
          "data": {
            "text/html": [
              "<div>\n",
              "<style scoped>\n",
              "    .dataframe tbody tr th:only-of-type {\n",
              "        vertical-align: middle;\n",
              "    }\n",
              "\n",
              "    .dataframe tbody tr th {\n",
              "        vertical-align: top;\n",
              "    }\n",
              "\n",
              "    .dataframe thead th {\n",
              "        text-align: right;\n",
              "    }\n",
              "</style>\n",
              "<table border=\"1\" class=\"dataframe\">\n",
              "  <thead>\n",
              "    <tr style=\"text-align: right;\">\n",
              "      <th></th>\n",
              "      <th>Car_Name</th>\n",
              "      <th>Year</th>\n",
              "      <th>Selling_Price</th>\n",
              "      <th>Present_Price</th>\n",
              "      <th>Kms_Driven</th>\n",
              "      <th>Fuel_Type</th>\n",
              "      <th>Seller_Type</th>\n",
              "      <th>Transmission</th>\n",
              "      <th>Owner</th>\n",
              "    </tr>\n",
              "  </thead>\n",
              "  <tbody>\n",
              "    <tr>\n",
              "      <th>0</th>\n",
              "      <td>ritz</td>\n",
              "      <td>2014</td>\n",
              "      <td>3.35</td>\n",
              "      <td>5.59</td>\n",
              "      <td>27000</td>\n",
              "      <td>Petrol</td>\n",
              "      <td>Dealer</td>\n",
              "      <td>Manual</td>\n",
              "      <td>0</td>\n",
              "    </tr>\n",
              "    <tr>\n",
              "      <th>1</th>\n",
              "      <td>sx4</td>\n",
              "      <td>2013</td>\n",
              "      <td>4.75</td>\n",
              "      <td>9.54</td>\n",
              "      <td>43000</td>\n",
              "      <td>Diesel</td>\n",
              "      <td>Dealer</td>\n",
              "      <td>Manual</td>\n",
              "      <td>0</td>\n",
              "    </tr>\n",
              "    <tr>\n",
              "      <th>2</th>\n",
              "      <td>ciaz</td>\n",
              "      <td>2017</td>\n",
              "      <td>7.25</td>\n",
              "      <td>9.85</td>\n",
              "      <td>6900</td>\n",
              "      <td>Petrol</td>\n",
              "      <td>Dealer</td>\n",
              "      <td>Manual</td>\n",
              "      <td>0</td>\n",
              "    </tr>\n",
              "    <tr>\n",
              "      <th>3</th>\n",
              "      <td>wagon r</td>\n",
              "      <td>2011</td>\n",
              "      <td>2.85</td>\n",
              "      <td>4.15</td>\n",
              "      <td>5200</td>\n",
              "      <td>Petrol</td>\n",
              "      <td>Dealer</td>\n",
              "      <td>Manual</td>\n",
              "      <td>0</td>\n",
              "    </tr>\n",
              "    <tr>\n",
              "      <th>4</th>\n",
              "      <td>swift</td>\n",
              "      <td>2014</td>\n",
              "      <td>4.60</td>\n",
              "      <td>6.87</td>\n",
              "      <td>42450</td>\n",
              "      <td>Diesel</td>\n",
              "      <td>Dealer</td>\n",
              "      <td>Manual</td>\n",
              "      <td>0</td>\n",
              "    </tr>\n",
              "  </tbody>\n",
              "</table>\n",
              "</div>"
            ],
            "text/plain": [
              "  Car_Name  Year  Selling_Price  ...  Seller_Type  Transmission Owner\n",
              "0     ritz  2014           3.35  ...       Dealer        Manual     0\n",
              "1      sx4  2013           4.75  ...       Dealer        Manual     0\n",
              "2     ciaz  2017           7.25  ...       Dealer        Manual     0\n",
              "3  wagon r  2011           2.85  ...       Dealer        Manual     0\n",
              "4    swift  2014           4.60  ...       Dealer        Manual     0\n",
              "\n",
              "[5 rows x 9 columns]"
            ]
          },
          "metadata": {
            "tags": []
          },
          "execution_count": 50
        }
      ]
    },
    {
      "cell_type": "code",
      "metadata": {
        "colab": {
          "base_uri": "https://localhost:8080/",
          "height": 204
        },
        "id": "SS13KBsZ-Z8t",
        "outputId": "4fd3092a-c1a4-46e4-ebfc-15d09b375ee9"
      },
      "source": [
        "# Feature Engineering: Calculating Age based on the Year column\n",
        "ds['Age'] = ds['Year'].apply(lambda x: dt.today().year - x)\n",
        "\n",
        "# Dropping car_name & year columns\n",
        "ds.drop(columns = ['Car_Name', 'Year'], inplace = True)\n",
        "\n",
        "ds.head()"
      ],
      "execution_count": null,
      "outputs": [
        {
          "output_type": "execute_result",
          "data": {
            "text/html": [
              "<div>\n",
              "<style scoped>\n",
              "    .dataframe tbody tr th:only-of-type {\n",
              "        vertical-align: middle;\n",
              "    }\n",
              "\n",
              "    .dataframe tbody tr th {\n",
              "        vertical-align: top;\n",
              "    }\n",
              "\n",
              "    .dataframe thead th {\n",
              "        text-align: right;\n",
              "    }\n",
              "</style>\n",
              "<table border=\"1\" class=\"dataframe\">\n",
              "  <thead>\n",
              "    <tr style=\"text-align: right;\">\n",
              "      <th></th>\n",
              "      <th>Selling_Price</th>\n",
              "      <th>Present_Price</th>\n",
              "      <th>Kms_Driven</th>\n",
              "      <th>Fuel_Type</th>\n",
              "      <th>Seller_Type</th>\n",
              "      <th>Transmission</th>\n",
              "      <th>Owner</th>\n",
              "      <th>Age</th>\n",
              "    </tr>\n",
              "  </thead>\n",
              "  <tbody>\n",
              "    <tr>\n",
              "      <th>0</th>\n",
              "      <td>3.35</td>\n",
              "      <td>5.59</td>\n",
              "      <td>27000</td>\n",
              "      <td>Petrol</td>\n",
              "      <td>Dealer</td>\n",
              "      <td>Manual</td>\n",
              "      <td>0</td>\n",
              "      <td>7</td>\n",
              "    </tr>\n",
              "    <tr>\n",
              "      <th>1</th>\n",
              "      <td>4.75</td>\n",
              "      <td>9.54</td>\n",
              "      <td>43000</td>\n",
              "      <td>Diesel</td>\n",
              "      <td>Dealer</td>\n",
              "      <td>Manual</td>\n",
              "      <td>0</td>\n",
              "      <td>8</td>\n",
              "    </tr>\n",
              "    <tr>\n",
              "      <th>2</th>\n",
              "      <td>7.25</td>\n",
              "      <td>9.85</td>\n",
              "      <td>6900</td>\n",
              "      <td>Petrol</td>\n",
              "      <td>Dealer</td>\n",
              "      <td>Manual</td>\n",
              "      <td>0</td>\n",
              "      <td>4</td>\n",
              "    </tr>\n",
              "    <tr>\n",
              "      <th>3</th>\n",
              "      <td>2.85</td>\n",
              "      <td>4.15</td>\n",
              "      <td>5200</td>\n",
              "      <td>Petrol</td>\n",
              "      <td>Dealer</td>\n",
              "      <td>Manual</td>\n",
              "      <td>0</td>\n",
              "      <td>10</td>\n",
              "    </tr>\n",
              "    <tr>\n",
              "      <th>4</th>\n",
              "      <td>4.60</td>\n",
              "      <td>6.87</td>\n",
              "      <td>42450</td>\n",
              "      <td>Diesel</td>\n",
              "      <td>Dealer</td>\n",
              "      <td>Manual</td>\n",
              "      <td>0</td>\n",
              "      <td>7</td>\n",
              "    </tr>\n",
              "  </tbody>\n",
              "</table>\n",
              "</div>"
            ],
            "text/plain": [
              "   Selling_Price  Present_Price  Kms_Driven  ... Transmission Owner Age\n",
              "0           3.35           5.59       27000  ...       Manual     0   7\n",
              "1           4.75           9.54       43000  ...       Manual     0   8\n",
              "2           7.25           9.85        6900  ...       Manual     0   4\n",
              "3           2.85           4.15        5200  ...       Manual     0  10\n",
              "4           4.60           6.87       42450  ...       Manual     0   7\n",
              "\n",
              "[5 rows x 8 columns]"
            ]
          },
          "metadata": {
            "tags": []
          },
          "execution_count": 51
        }
      ]
    },
    {
      "cell_type": "code",
      "metadata": {
        "colab": {
          "base_uri": "https://localhost:8080/"
        },
        "id": "yRnSH271-9Bb",
        "outputId": "aba2cb34-4a12-4b6c-9297-8e2490447082"
      },
      "source": [
        "# Splitting into X/y matrices; features and target matrices\n",
        "X = ds.iloc[:, 1:].values\n",
        "y = ds.iloc[:, 0].values.reshape(-1, 1)\n",
        "\n",
        "# Splitting into train/test subsets\n",
        "from sklearn.model_selection import train_test_split\n",
        "\n",
        "X_train, X_test, y_train, y_test = train_test_split(X, y, random_state = 0, test_size = 0.2)\n",
        "\n",
        "X_train[34]"
      ],
      "execution_count": null,
      "outputs": [
        {
          "output_type": "execute_result",
          "data": {
            "text/plain": [
              "array([0.57, 25000, 'Petrol', 'Individual', 'Manual', 1, 9], dtype=object)"
            ]
          },
          "metadata": {
            "tags": []
          },
          "execution_count": 52
        }
      ]
    },
    {
      "cell_type": "code",
      "metadata": {
        "id": "XBXatZyM_bVr"
      },
      "source": [
        "# Label Encoding: Fuel_Type, Seller, Transmission columns\n",
        "from sklearn.preprocessing import LabelEncoder, OneHotEncoder\n",
        "from sklearn.compose import ColumnTransformer\n",
        "\n",
        "enc = LabelEncoder()\n",
        "\n",
        "X_train[:, 2] = enc.fit_transform(X_train[:, 2])\n",
        "X_test[:, 2] = enc.transform(X_test[:, 2])\n",
        "\n",
        "X_train[:, 3] = enc.fit_transform(X_train[:, 3])\n",
        "X_test[:, 3] = enc.transform(X_test[:, 3])\n",
        "\n",
        "X_train[:, 4] = enc.fit_transform(X_train[:, 4])\n",
        "X_test[:, 4] = enc.transform(X_test[:, 4])\n",
        "\n",
        "# One Hot Encoding the Fuel_Type column\n",
        "ct = ColumnTransformer(transformers = [('one_hot_encoder', OneHotEncoder(), [2])],\n",
        "                       remainder = 'passthrough')\n",
        "\n",
        "X_train = ct.fit_transform(X_train)\n",
        "X_test = ct.transform(X_test)\n",
        "\n",
        "# Applying Standardization\n",
        "from sklearn.preprocessing import StandardScaler\n",
        "\n",
        "sc = StandardScaler()\n",
        "\n",
        "X_train = sc.fit_transform(X_train)\n",
        "X_test = sc.transform(X_test)"
      ],
      "execution_count": null,
      "outputs": []
    },
    {
      "cell_type": "code",
      "metadata": {
        "id": "jQPp0nqYBYUo"
      },
      "source": [
        "# Converting to a TF dataset\n",
        "from tensorflow.data import Dataset\n",
        "\n",
        "train = Dataset.from_tensor_slices((X_train, y_train))\n",
        "train = train.batch(batch_size = 16)\n",
        "\n",
        "test = Dataset.from_tensor_slices((X_test, y_test))\n",
        "test = test.batch(batch_size = len(X_test))"
      ],
      "execution_count": null,
      "outputs": []
    },
    {
      "cell_type": "code",
      "metadata": {
        "id": "9EoFcikoCA5u"
      },
      "source": [
        "# Defining the Regression Neural Network\n",
        "from tensorflow.keras import Model, losses, metrics, optimizers\n",
        "from tensorflow.keras.layers import Dense\n",
        "\n",
        "# Defining a class to implement my Neural Network architecture\n",
        "class RegressionNN(Model):\n",
        "  # Defining layer architecture in the constructor\n",
        "  def __init__(self):\n",
        "    # Calling all the parent constructors\n",
        "    super().__init__()\n",
        "\n",
        "    # Layers\n",
        "    self.a = Dense(units = 100, activation = 'relu')\n",
        "    self.b = Dense(units = 200, activation = 'relu')\n",
        "    self.c = Dense(units = 1)\n",
        "\n",
        "  # Defining the computations to be performed at each forward pass\n",
        "  def call(self, x):\n",
        "    x = self.a(x)\n",
        "    x = self.b(x)\n",
        "    x = self.c(x)\n",
        "\n",
        "    return x\n",
        "\n",
        "# Creating an object of the RegressionNN class\n",
        "model = RegressionNN()\n",
        "\n",
        "# Setting up optimizer & loss object\n",
        "optimizer = optimizers.Adam()\n",
        "loss_object = losses.MeanAbsoluteError()"
      ],
      "execution_count": null,
      "outputs": []
    },
    {
      "cell_type": "code",
      "metadata": {
        "colab": {
          "base_uri": "https://localhost:8080/"
        },
        "id": "R1lbPW7GDk82",
        "outputId": "01d9e9d6-4b2d-4bec-d855-6d6b2f2308a3"
      },
      "source": [
        "# Setting up loops to train\n",
        "epochs = 20\n",
        "\n",
        "for epoch in range(epochs):\n",
        "  print('Epoch {} of {}'.format(epoch + 1, epochs))\n",
        "\n",
        "  # Calculating train loss for every epoch\n",
        "  train_loss = 0.0\n",
        "\n",
        "  # Inner loop to iteratively feed batches of training data to the model\n",
        "  for x, y in train:\n",
        "\n",
        "    # Using tf.GradientTape() to track all computations performed on the parameters & enable auto_differentiation\n",
        "    with tf.GradientTape() as tape:\n",
        "      \n",
        "      # Forward pass\n",
        "      output = model(x)\n",
        "\n",
        "      # Compute loss\n",
        "      loss = loss_object(y, output)\n",
        "      train_loss += loss.numpy()\n",
        "\n",
        "    # Retrieving gradients of the trainable parameters wrt loss\n",
        "    grads = tape.gradient(loss, model.trainable_weights)\n",
        "\n",
        "    # Update weights to minimize loss and run 1 step of gradient descent\n",
        "    optimizer.apply_gradients(zip(grads, model.trainable_weights))\n",
        "\n",
        "  # Printing train_loss for every epoch\n",
        "  print('Average train loss: {}\\n'.format(train_loss/len(train)))"
      ],
      "execution_count": null,
      "outputs": [
        {
          "output_type": "stream",
          "text": [
            "Epoch 1 of 20\n",
            "Average train loss: 3.892195741335551\n",
            "\n",
            "Epoch 2 of 20\n",
            "Average train loss: 2.8296841859817503\n",
            "\n",
            "Epoch 3 of 20\n",
            "Average train loss: 1.7608484347661337\n",
            "\n",
            "Epoch 4 of 20\n",
            "Average train loss: 1.3433562914530437\n",
            "\n",
            "Epoch 5 of 20\n",
            "Average train loss: 1.0150699059168498\n",
            "\n",
            "Epoch 6 of 20\n",
            "Average train loss: 0.869933287302653\n",
            "\n",
            "Epoch 7 of 20\n",
            "Average train loss: 0.787440158923467\n",
            "\n",
            "Epoch 8 of 20\n",
            "Average train loss: 0.7414233068625132\n",
            "\n",
            "Epoch 9 of 20\n",
            "Average train loss: 0.7121342897415162\n",
            "\n",
            "Epoch 10 of 20\n",
            "Average train loss: 0.6848092953364054\n",
            "\n",
            "Epoch 11 of 20\n",
            "Average train loss: 0.6626728693644206\n",
            "\n",
            "Epoch 12 of 20\n",
            "Average train loss: 0.6340826213359833\n",
            "\n",
            "Epoch 13 of 20\n",
            "Average train loss: 0.6144975841045379\n",
            "\n",
            "Epoch 14 of 20\n",
            "Average train loss: 0.5890875399112702\n",
            "\n",
            "Epoch 15 of 20\n",
            "Average train loss: 0.594816917181015\n",
            "\n",
            "Epoch 16 of 20\n",
            "Average train loss: 0.5778481821219127\n",
            "\n",
            "Epoch 17 of 20\n",
            "Average train loss: 0.5450554013252258\n",
            "\n",
            "Epoch 18 of 20\n",
            "Average train loss: 0.5335821410020193\n",
            "\n",
            "Epoch 19 of 20\n",
            "Average train loss: 0.5146277189254761\n",
            "\n",
            "Epoch 20 of 20\n",
            "Average train loss: 0.5070893545945485\n",
            "\n"
          ],
          "name": "stdout"
        }
      ]
    },
    {
      "cell_type": "code",
      "metadata": {
        "colab": {
          "base_uri": "https://localhost:8080/"
        },
        "id": "8Ty_pWVeFRNO",
        "outputId": "7bab735b-aac0-4d5a-be22-f93963716fa7"
      },
      "source": [
        "# Test loop\n",
        "\n",
        "# Metrics to calculate\n",
        "test_mae = metrics.MeanAbsoluteError()\n",
        "test_mse = metrics.MeanSquaredError()\n",
        "test_msle = metrics.MeanSquaredLogarithmicError()\n",
        "test_mape = metrics.MeanAbsolutePercentageError()\n",
        "\n",
        "for x, y in test:\n",
        "\n",
        "  # Get outputs\n",
        "  outputs = model(x)\n",
        "\n",
        "  # Calculate & update metrics\n",
        "  test_mae.update_state(y, outputs)\n",
        "  test_mse.update_state(y, outputs)\n",
        "  test_msle.update_state(y, outputs)\n",
        "  test_mape.update_state(y, outputs)\n",
        "\n",
        "  # Gather the results\n",
        "  mae = test_mae.result().numpy()\n",
        "  mse = test_mse.result().numpy()\n",
        "  msle = test_msle.result().numpy()\n",
        "  mape = test_mape.result().numpy()\n",
        "\n",
        "\n",
        "# Update metrics dict\n",
        "metrics = {'MAE': mae, 'MSE': mse, 'MSLE': msle, 'MAPE': mape}\n",
        "metrics"
      ],
      "execution_count": null,
      "outputs": [
        {
          "output_type": "execute_result",
          "data": {
            "text/plain": [
              "{'MAE': 0.6963639, 'MAPE': 18.441994, 'MSE': 1.1520668, 'MSLE': 0.018023143}"
            ]
          },
          "metadata": {
            "tags": []
          },
          "execution_count": 57
        }
      ]
    }
  ]
}