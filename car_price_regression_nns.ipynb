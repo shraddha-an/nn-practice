{
  "nbformat": 4,
  "nbformat_minor": 0,
  "metadata": {
    "colab": {
      "name": "car_price_regression_nns.ipynb",
      "provenance": [],
      "collapsed_sections": [],
      "toc_visible": true,
      "authorship_tag": "ABX9TyNabRnE5ZcPaPBqXY4qDtEY",
      "include_colab_link": true
    },
    "kernelspec": {
      "name": "python3",
      "display_name": "Python 3"
    }
  },
  "cells": [
    {
      "cell_type": "markdown",
      "metadata": {
        "id": "view-in-github",
        "colab_type": "text"
      },
      "source": [
        "<a href=\"https://colab.research.google.com/github/shraddha-an/nn-practice/blob/main/car_price_regression_nns.ipynb\" target=\"_parent\"><img src=\"https://colab.research.google.com/assets/colab-badge.svg\" alt=\"Open In Colab\"/></a>"
      ]
    },
    {
      "cell_type": "markdown",
      "metadata": {
        "id": "de1sAue48tVB"
      },
      "source": [
        "# **Predicting Car Prices with Regression Neural Network**"
      ]
    },
    {
      "cell_type": "markdown",
      "metadata": {
        "id": "MhUVXHd-8-Md"
      },
      "source": [
        "## **1) Importing libraries**"
      ]
    },
    {
      "cell_type": "code",
      "metadata": {
        "id": "jdIjXt0L6ogt"
      },
      "source": [
        "# Importing required libraries\n",
        "# Data Handling/ Manipulation\n",
        "import pandas as pd\n",
        "import numpy as np\n",
        "\n",
        "# Torch\n",
        "import torch\n",
        "import torch.nn as nn, torch.nn.functional as F\n",
        "\n",
        "device = torch.device('cuda' if torch.cuda.is_available() else 'cpu')\n",
        "\n",
        "# TensorFlow\n",
        "import tensorflow as tf\n",
        "\n",
        "# Time \n",
        "import time\n",
        "from datetime import datetime as dt\n",
        "\n",
        "# Plotting\n",
        "import matplotlib.pyplot as plt\n",
        "import seaborn as sb"
      ],
      "execution_count": null,
      "outputs": []
    },
    {
      "cell_type": "code",
      "metadata": {
        "colab": {
          "base_uri": "https://localhost:8080/"
        },
        "id": "0SKjlZ8g9PYf",
        "outputId": "0214fa56-0809-47d4-9cae-b2bc5757fd07"
      },
      "source": [
        "# Importing the dataset\n",
        "dataset = pd.read_csv('car_data.csv')\n",
        "print(dataset.info(),'\\n\\n')\n",
        "dataset.head()\n",
        "\n",
        "# Creating a metrics dict to hold MSE & MAE values for the models\n",
        "metrics = {}"
      ],
      "execution_count": null,
      "outputs": [
        {
          "output_type": "stream",
          "text": [
            "<class 'pandas.core.frame.DataFrame'>\n",
            "RangeIndex: 301 entries, 0 to 300\n",
            "Data columns (total 9 columns):\n",
            " #   Column         Non-Null Count  Dtype  \n",
            "---  ------         --------------  -----  \n",
            " 0   Car_Name       301 non-null    object \n",
            " 1   Year           301 non-null    int64  \n",
            " 2   Selling_Price  301 non-null    float64\n",
            " 3   Present_Price  301 non-null    float64\n",
            " 4   Kms_Driven     301 non-null    int64  \n",
            " 5   Fuel_Type      301 non-null    object \n",
            " 6   Seller_Type    301 non-null    object \n",
            " 7   Transmission   301 non-null    object \n",
            " 8   Owner          301 non-null    int64  \n",
            "dtypes: float64(2), int64(3), object(4)\n",
            "memory usage: 21.3+ KB\n",
            "None \n",
            "\n",
            "\n"
          ],
          "name": "stdout"
        }
      ]
    },
    {
      "cell_type": "markdown",
      "metadata": {
        "id": "2cnfKfFB-G8W"
      },
      "source": [
        "## **2) Data Preprocessing**\n",
        "---\n",
        "**Steps:**\n",
        "\n",
        "1) Columns to encode: Fuel_Type, Seller_Type, Transmission\n",
        "\n",
        "2) Feature Extraction: Extract Age of the vehicle from the Year column\n",
        "\n",
        "3) Columns to delete: Car_Name, Year.\n",
        "\n",
        "\n",
        "\n",
        "\n"
      ]
    },
    {
      "cell_type": "code",
      "metadata": {
        "colab": {
          "base_uri": "https://localhost:8080/"
        },
        "id": "_haD_owD9-W-",
        "outputId": "8274f362-9f3f-46c2-8dd2-68cf44dba323"
      },
      "source": [
        "# Calculating age in years of each vehicle\n",
        "%time\n",
        "dataset['Age'] = dataset['Year'].apply(lambda x: dt.today().year - x)\n",
        "\n",
        "# Deleting car name & year columns\n",
        "dataset.drop(columns = ['Car_Name', 'Year'], inplace = True)\n",
        "\n",
        "# Splitting into feature & target matrices\n",
        "X = dataset.iloc[:, 1:].values\n",
        "y = dataset.iloc[:, 0].values.reshape(-1, 1)\n",
        "\n",
        "# Splitting into train & test subsets\n",
        "from sklearn.model_selection import train_test_split\n",
        "\n",
        "X_train, X_test, y_train, y_test = train_test_split(X, y, random_state = 0, test_size = 0.2)\n",
        "\n",
        "X_train.shape, y_train.shape, X_test.shape, y_test.shape"
      ],
      "execution_count": null,
      "outputs": [
        {
          "output_type": "stream",
          "text": [
            "CPU times: user 2 µs, sys: 0 ns, total: 2 µs\n",
            "Wall time: 5.72 µs\n"
          ],
          "name": "stdout"
        },
        {
          "output_type": "execute_result",
          "data": {
            "text/plain": [
              "((240, 7), (240, 1), (61, 7), (61, 1))"
            ]
          },
          "metadata": {
            "tags": []
          },
          "execution_count": 110
        }
      ]
    },
    {
      "cell_type": "code",
      "metadata": {
        "colab": {
          "base_uri": "https://localhost:8080/"
        },
        "id": "UdZ0ZZkaGvyG",
        "outputId": "e340874c-141e-499d-acca-83b4d454a971"
      },
      "source": [
        "# Label Encoding\n",
        "from sklearn.preprocessing import LabelEncoder, OneHotEncoder\n",
        "from sklearn.compose import ColumnTransformer \n",
        "\n",
        "enc = LabelEncoder()\n",
        "\n",
        "X_train[:, 2] = enc.fit_transform(X_train[:, 2])\n",
        "X_test[:, 2] = enc.transform(X_test[:, 2])\n",
        "\n",
        "X_train[:, 3] = enc.fit_transform(X_train[:, 3])\n",
        "X_test[:, 3] = enc.transform(X_test[:, 3])\n",
        "\n",
        "X_train[:, 4] = enc.fit_transform(X_train[:, 4])\n",
        "X_test[:, 4] = enc.transform(X_test[:, 4])\n",
        "\n",
        "# OHE the fuel_type column\n",
        "ohe = ColumnTransformer([('encoder', OneHotEncoder(), [2])], remainder = 'passthrough') \n",
        "\n",
        "X_train = ohe.fit_transform(X_train)\n",
        "X_test = ohe.transform(X_test)\n",
        "\n",
        "# Standardization\n",
        "from sklearn.preprocessing import StandardScaler\n",
        "\n",
        "sc = StandardScaler()\n",
        "\n",
        "X_train = sc.fit_transform(X_train)\n",
        "X_test = sc.transform(X_test)\n",
        "\n",
        "len(X_test[0])"
      ],
      "execution_count": null,
      "outputs": [
        {
          "output_type": "execute_result",
          "data": {
            "text/plain": [
              "9"
            ]
          },
          "metadata": {
            "tags": []
          },
          "execution_count": 111
        }
      ]
    },
    {
      "cell_type": "code",
      "metadata": {
        "colab": {
          "base_uri": "https://localhost:8080/"
        },
        "id": "GzK01z6nJ-sR",
        "outputId": "a180d66c-2754-41b2-f326-650627a6817a"
      },
      "source": [
        "len(X_train[0])"
      ],
      "execution_count": null,
      "outputs": [
        {
          "output_type": "execute_result",
          "data": {
            "text/plain": [
              "9"
            ]
          },
          "metadata": {
            "tags": []
          },
          "execution_count": 112
        }
      ]
    },
    {
      "cell_type": "markdown",
      "metadata": {
        "id": "I-4ohkbzH03v"
      },
      "source": [
        "## **3) PyTorch Neural Network**"
      ]
    },
    {
      "cell_type": "code",
      "metadata": {
        "colab": {
          "base_uri": "https://localhost:8080/"
        },
        "id": "2aNk4ro7H0nf",
        "outputId": "75ac7b7a-9983-4118-f534-096d29e78c70"
      },
      "source": [
        "# Converting numpy arrays to torch tensors of dtype float32\n",
        "%time\n",
        "from torch.utils.data import TensorDataset, DataLoader, RandomSampler\n",
        "\n",
        "train_data = TensorDataset(torch.tensor(X_train, dtype = torch.float32), torch.tensor(y_train, dtype = torch.float32))\n",
        "test_data = TensorDataset(torch.tensor(X_test, dtype = torch.float32), torch.tensor(y_test, dtype = torch.float32))\n",
        "\n",
        "# Creating data loader objects that'll supply batches of data to our model\n",
        "train = DataLoader(dataset = train_data, sampler = RandomSampler(train_data), batch_size = 16)\n",
        "test = DataLoader(dataset = test_data, batch_size = 1)"
      ],
      "execution_count": null,
      "outputs": [
        {
          "output_type": "stream",
          "text": [
            "CPU times: user 4 µs, sys: 0 ns, total: 4 µs\n",
            "Wall time: 7.87 µs\n"
          ],
          "name": "stdout"
        }
      ]
    },
    {
      "cell_type": "code",
      "metadata": {
        "colab": {
          "base_uri": "https://localhost:8080/"
        },
        "id": "78dbsrTAIvni",
        "outputId": "7b6bd155-2564-4830-cd0c-c0fab25d2069"
      },
      "source": [
        "# Defining the Regression Neural Network: 1 input layer, 1 hidden layer, 1 output layer\n",
        "%time\n",
        "class RegressionNN(nn.Module):\n",
        "  # Defining our neural network architecture in the constructor \n",
        "  def __init__(self, input_dim):\n",
        "    # Calling the correct parent constructors\n",
        "    super().__init__()\n",
        "\n",
        "    self.input1 = nn.Linear(in_features = input_dim, out_features = 100)\n",
        "    self.hidden2 = nn.Linear(in_features = 100, out_features = 200)\n",
        "    self.output3 = nn.Linear(in_features = 200, out_features = 1)\n",
        "\n",
        "  # Defining forward pass computations\n",
        "  def forward(self, x):\n",
        "    x = F.relu(self.input1(x))\n",
        "    x = F.relu(self.hidden2(x))\n",
        "    x = self.output3(x)\n",
        "\n",
        "    return x\n",
        "\n",
        "# Creating an object of our neural network class\n",
        "input_dim = len(X_train[0])\n",
        "model = RegressionNN(input_dim = input_dim)\n",
        "print(model)\n"
      ],
      "execution_count": null,
      "outputs": [
        {
          "output_type": "stream",
          "text": [
            "CPU times: user 2 µs, sys: 0 ns, total: 2 µs\n",
            "Wall time: 4.77 µs\n",
            "RegressionNN(\n",
            "  (input1): Linear(in_features=9, out_features=100, bias=True)\n",
            "  (hidden2): Linear(in_features=100, out_features=200, bias=True)\n",
            "  (output3): Linear(in_features=200, out_features=1, bias=True)\n",
            ")\n"
          ],
          "name": "stdout"
        }
      ]
    },
    {
      "cell_type": "code",
      "metadata": {
        "id": "7Zcs_pqNaoaI"
      },
      "source": [
        "# Optimizer\n",
        "from torch.optim import Adam\n",
        "\n",
        "optimizer = Adam(params = model.parameters(), lr = 0.02, eps = 2e-3, amsgrad = True)\n",
        "\n",
        "# Loss Function\n",
        "criterion = nn.L1Loss()"
      ],
      "execution_count": null,
      "outputs": []
    },
    {
      "cell_type": "code",
      "metadata": {
        "colab": {
          "base_uri": "https://localhost:8080/"
        },
        "id": "aOxSAl3vr8lB",
        "outputId": "e906ca05-edf6-4b2d-8f6b-e5d60f86a636"
      },
      "source": [
        "# Training loop\n",
        "%time\n",
        "\n",
        "# Putting model in train mode\n",
        "model.train()\n",
        "\n",
        "# Epochs \n",
        "epochs = 20\n",
        "\n",
        "for epoch in range(epochs):\n",
        "  print('\\nEpoch {}/{}'.format(epoch + 1, epochs))\n",
        "  print('------------')\n",
        "\n",
        "  # Calculating training loss for every epoch\n",
        "  train_loss = 0.0\n",
        "\n",
        "  # Training batches\n",
        "  for features, target in train:\n",
        "    \n",
        "    # Push variables to device\n",
        "    features, target = features.to(device), target.to(device)\n",
        "\n",
        "    # Clear out gradients from previous training batch\n",
        "    optimizer.zero_grad()\n",
        "\n",
        "    # Forward pass; feed inputs to model & get outputs\n",
        "    outputs = model(features)\n",
        "\n",
        "    # Calculate loss between model's predictions & actual target\n",
        "    loss = criterion(outputs, target)\n",
        "    train_loss += loss.item()\n",
        "\n",
        "    # Back propagate loss throughout the neural network\n",
        "    loss.backward()\n",
        "\n",
        "    # Update parameters based on the current gradient\n",
        "    optimizer.step()\n",
        "  \n",
        "  print('Training Loss: ', train_loss/len(train))"
      ],
      "execution_count": null,
      "outputs": [
        {
          "output_type": "stream",
          "text": [
            "CPU times: user 2 µs, sys: 0 ns, total: 2 µs\n",
            "Wall time: 4.77 µs\n",
            "\n",
            "Epoch 1/20\n",
            "------------\n",
            "Training Loss:  2.151266161600749\n",
            "\n",
            "Epoch 2/20\n",
            "------------\n",
            "Training Loss:  1.171347399552663\n",
            "\n",
            "Epoch 3/20\n",
            "------------\n",
            "Training Loss:  1.3965235332647958\n",
            "\n",
            "Epoch 4/20\n",
            "------------\n",
            "Training Loss:  1.3046990354855856\n",
            "\n",
            "Epoch 5/20\n",
            "------------\n",
            "Training Loss:  0.9239172955354055\n",
            "\n",
            "Epoch 6/20\n",
            "------------\n",
            "Training Loss:  0.783041658004125\n",
            "\n",
            "Epoch 7/20\n",
            "------------\n",
            "Training Loss:  0.9221491535504659\n",
            "\n",
            "Epoch 8/20\n",
            "------------\n",
            "Training Loss:  1.0450846175352733\n",
            "\n",
            "Epoch 9/20\n",
            "------------\n",
            "Training Loss:  0.7997021536032359\n",
            "\n",
            "Epoch 10/20\n",
            "------------\n",
            "Training Loss:  1.0604480981826783\n",
            "\n",
            "Epoch 11/20\n",
            "------------\n",
            "Training Loss:  0.7895046770572662\n",
            "\n",
            "Epoch 12/20\n",
            "------------\n",
            "Training Loss:  0.6974691758553188\n",
            "\n",
            "Epoch 13/20\n",
            "------------\n",
            "Training Loss:  0.6274674971898396\n",
            "\n",
            "Epoch 14/20\n",
            "------------\n",
            "Training Loss:  0.7668930311997731\n",
            "\n",
            "Epoch 15/20\n",
            "------------\n",
            "Training Loss:  0.5540408968925477\n",
            "\n",
            "Epoch 16/20\n",
            "------------\n",
            "Training Loss:  0.5379066407680512\n",
            "\n",
            "Epoch 17/20\n",
            "------------\n",
            "Training Loss:  0.6881484349568685\n",
            "\n",
            "Epoch 18/20\n",
            "------------\n",
            "Training Loss:  0.5996919929981231\n",
            "\n",
            "Epoch 19/20\n",
            "------------\n",
            "Training Loss:  0.5803659856319427\n",
            "\n",
            "Epoch 20/20\n",
            "------------\n",
            "Training Loss:  0.5454699516296386\n"
          ],
          "name": "stdout"
        }
      ]
    },
    {
      "cell_type": "code",
      "metadata": {
        "colab": {
          "base_uri": "https://localhost:8080/"
        },
        "id": "ipLOg12auh3j",
        "outputId": "58278769-b013-4437-b6a7-b10e56d8b005"
      },
      "source": [
        "# Testing loop\n",
        "%time\n",
        "\n",
        "# Variables to track predictions & target\n",
        "preds, targets = [], []\n",
        "\n",
        "# Putting model in test mode\n",
        "model.eval()\n",
        "\n",
        "# Disabling gradient calculation with no_grad(). Deactivates auto_grad engine \n",
        "# and reduces memory usage and speeds up computations but back propagation not possible.\n",
        "with torch.no_grad():\n",
        "  for features, target in test:\n",
        "\n",
        "    # Pushing data to the device\n",
        "    features = features.to(device)\n",
        "\n",
        "    # Perform forward pass, collect outputs\n",
        "    output = model(features)\n",
        "\n",
        "    # Deatch predictions from the graph and append to list\n",
        "    preds.append(output.detach().cpu().numpy())\n",
        "    targets.append(target.to('cpu').numpy())"
      ],
      "execution_count": null,
      "outputs": [
        {
          "output_type": "stream",
          "text": [
            "CPU times: user 3 µs, sys: 0 ns, total: 3 µs\n",
            "Wall time: 7.39 µs\n"
          ],
          "name": "stdout"
        }
      ]
    },
    {
      "cell_type": "code",
      "metadata": {
        "colab": {
          "base_uri": "https://localhost:8080/"
        },
        "id": "TsAgYAL8vkl_",
        "outputId": "d1f03dc5-8308-4edc-bf4c-85aee8c287e8"
      },
      "source": [
        "# Converting preds to a simple list from a list of arrays\n",
        "preds = [x[0][0] for x in preds]\n",
        "y_test = [x for x in y_test]\n",
        "\n",
        "# Calculating MAE & MSE between predictions & target\n",
        "from sklearn.metrics import mean_absolute_error, mean_squared_error\n",
        "\n",
        "mae = mean_absolute_error(y_test, preds)\n",
        "mse = mean_squared_error(y_test, preds)\n",
        "\n",
        "# Adding these metrics to the metrics dict\n",
        "metrics['PyTorch'] = {'mae': mae, 'mse': mse}\n",
        "\n",
        "print('Mean Absolute Error: {}\\nMean Squared Error: {}'.format(mae, mse) )"
      ],
      "execution_count": null,
      "outputs": [
        {
          "output_type": "stream",
          "text": [
            "Mean Absolute Error: 0.8268836386868211\n",
            "Mean Squared Error: 1.421962835181091\n"
          ],
          "name": "stdout"
        }
      ]
    },
    {
      "cell_type": "code",
      "metadata": {
        "colab": {
          "base_uri": "https://localhost:8080/",
          "height": 445
        },
        "id": "qE5Xva0ODHhw",
        "outputId": "ece54e8d-45ce-4bf1-ef9b-9959fb0b3ebd"
      },
      "source": [
        "# Plotting the target variable\n",
        "sb.set_style('darkgrid')\n",
        "plt.figure(figsize = (10, 7))\n",
        "\n",
        "plt.plot(y_test, color = 'purple', label = 'actual price')\n",
        "plt.plot(preds, color = 'black', label = 'predicted price')\n",
        "plt.legend(shadow = True, loc = 'upper center')\n",
        "plt.title('Actual vs Predicted Selling Price of Cars', fontsize = 14, fontweight = 'semibold')\n",
        "plt.ylabel('Price', fontsize = 14, fontweight = 'semibold')\n",
        "plt.show()"
      ],
      "execution_count": null,
      "outputs": [
        {
          "output_type": "display_data",
          "data": {
            "image/png": "[encoded data removed]",
            "text/plain": [
              "<Figure size 720x504 with 1 Axes>"
            ]
          },
          "metadata": {
            "tags": []
          }
        }
      ]
    },
    {
      "cell_type": "markdown",
      "metadata": {
        "id": "7UAXG0R2Hzca"
      },
      "source": [
        "## **4) Keras Neural Network**"
      ]
    },
    {
      "cell_type": "code",
      "metadata": {
        "colab": {
          "base_uri": "https://localhost:8080/"
        },
        "id": "OsjyN9VvH5uu",
        "outputId": "95a9d03e-9233-4162-e2ff-926377c937e9"
      },
      "source": [
        "# Importing keras modules\n",
        "from keras.models import Sequential\n",
        "from keras.layers import Dense\n",
        "\n",
        "regressor = Sequential()\n",
        "regressor.add(Dense(units = 100, activation = 'relu', input_dim = input_dim))\n",
        "regressor.add(Dense(units = 200, activation = 'relu'))\n",
        "regressor.add(Dense(units = 1))\n",
        "\n",
        "# Compiling the model with adam optimizer\n",
        "regressor.compile(optimizer = 'adam', metrics = ['mean_squared_error'], loss = 'mean_squared_logarithmic_error')\n",
        "\n",
        "# Training the model\n",
        "history = regressor.fit(X_train, y_train, batch_size = 16, epochs = 20, verbose = 0)\n",
        "\n",
        "# Evaluating on test set\n",
        "y_pred = regressor.predict(X_test)\n",
        "\n",
        "# Printing metrics\n",
        "mae_k = mean_absolute_error(y_test, y_pred)\n",
        "mse_k = mean_squared_error(y_test, y_pred)\n",
        "\n",
        "# Adding these metrics to the metrics dict\n",
        "metrics['Keras'] = {'mae': mae_k, 'mse': mse_k}\n",
        "\n",
        "print('MAE: {}\\nMSE: {}'.format(mae_k, mse_k))"
      ],
      "execution_count": null,
      "outputs": [
        {
          "output_type": "stream",
          "text": [
            "MAE: 0.6985253744828896\n",
            "MSE: 1.1324348410208709\n"
          ],
          "name": "stdout"
        }
      ]
    },
    {
      "cell_type": "markdown",
      "metadata": {
        "id": "HeBvwXw-ZY2c"
      },
      "source": [
        "## **5) TensorFlow Neural Network**"
      ]
    },
    {
      "cell_type": "code",
      "metadata": {
        "id": "3RdmaVSFZenG"
      },
      "source": [
        "# Creating tf dataset with batches of data\n",
        "batch_size = 16\n",
        "\n",
        "train_data = tf.data.Dataset.from_tensor_slices((X_train, y_train))\n",
        "train_data = train_data.batch(batch_size = batch_size)\n",
        "\n",
        "test_data = tf.data.Dataset.from_tensor_slices((X_test, y_test))\n",
        "test_data = test_data.batch(batch_size = len(X_test))"
      ],
      "execution_count": null,
      "outputs": []
    },
    {
      "cell_type": "code",
      "metadata": {
        "id": "0cuS19mZelbq"
      },
      "source": [
        "# Creating a neural network class that subclasses the base Model class\n",
        "from tensorflow.keras import Model, losses, optimizers\n",
        "from tensorflow.keras.layers import Dense\n",
        "import tensorflow.nn\n",
        "\n",
        "class Regression(Model):\n",
        "  # Defining layer architecture in the constructor\n",
        "  def __init__(self):\n",
        "    super().__init__()\n",
        "\n",
        "    self.input1 = Dense(units = 100, activation = tf.nn.relu)\n",
        "    self.hidden2 = Dense(units = 200, activation = tf.nn.relu)\n",
        "    self.output3 = Dense(units = 1)\n",
        "\n",
        "  # Defining forward pass computations\n",
        "  def call(self, x):\n",
        "    x = self.input1(x)\n",
        "    x = self.hidden2(x)\n",
        "    x = self.output3(x)\n",
        "\n",
        "    return x\n",
        "\n",
        "# Creating an object of the regression class defined above\n",
        "reg = Regression()\n",
        "\n",
        "# Loss function\n",
        "loss_object = losses.MeanAbsoluteError()\n",
        "\n",
        "# Optimizer\n",
        "optimizer = optimizers.Adam()\n",
        "\n",
        "# Metrics to measure loss during training & testing\n",
        "train_loss = tf.keras.metrics.Mean(name = 'train_loss')\n",
        "train_mse = tf.keras.metrics.MeanSquaredError(name = 'train_mse')\n",
        "train_mae = tf.keras.metrics.MeanAbsoluteError(name = 'train_mae')\n",
        "\n",
        "test_loss = tf.keras.metrics.Mean(name = 'test_loss')\n",
        "test_mse = tf.keras.metrics.MeanSquaredError(name = 'test_mse')\n",
        "test_mae = tf.keras.metrics.MeanAbsoluteError(name = 'test_mae')"
      ],
      "execution_count": null,
      "outputs": []
    },
    {
      "cell_type": "code",
      "metadata": {
        "colab": {
          "base_uri": "https://localhost:8080/"
        },
        "id": "ppftgwGfKQ1m",
        "outputId": "4fc85504-2aed-43fc-9445-8ad1bf995b4a"
      },
      "source": [
        "# Simple Training loop\n",
        "%time\n",
        "epochs = 20\n",
        "# Iterate over each epoch\n",
        "for epoch in range(epochs):\n",
        "  print('Epoch {}/{}'.format(epoch + 1, epochs))\n",
        "  \n",
        "  # Iterate over the batches in the train dataset\n",
        "  for step, (x, y) in enumerate(train_data):\n",
        "  \n",
        "    # Open tf.GradientTape to record the forward pass computations and enable auto-differentiation.\n",
        "    with tf.GradientTape() as tape:\n",
        "\n",
        "      # Compute forward pass by feeding the model the input data\n",
        "      outputs = reg(x)\n",
        "\n",
        "      # Compute loss\n",
        "      loss = loss_object(y, outputs)\n",
        "    \n",
        "    # Use the gradient tape to automatically retrieve\n",
        "    # the gradients of the trainable variables with respect to the loss.\n",
        "    grads = tape.gradient(loss, reg.trainable_weights)\n",
        "\n",
        "    # Run one step of gradient descent by updating\n",
        "    # the value of the variables to minimize the loss.\n",
        "    optimizer.apply_gradients(zip(grads, reg.trainable_weights))"
      ],
      "execution_count": null,
      "outputs": [
        {
          "output_type": "stream",
          "text": [
            "CPU times: user 3 µs, sys: 0 ns, total: 3 µs\n",
            "Wall time: 5.48 µs\n",
            "Epoch 1/20\n",
            "Epoch 2/20\n",
            "Epoch 3/20\n",
            "Epoch 4/20\n",
            "Epoch 5/20\n",
            "Epoch 6/20\n",
            "Epoch 7/20\n",
            "Epoch 8/20\n",
            "Epoch 9/20\n",
            "Epoch 10/20\n",
            "Epoch 11/20\n",
            "Epoch 12/20\n",
            "Epoch 13/20\n",
            "Epoch 14/20\n",
            "Epoch 15/20\n",
            "Epoch 16/20\n",
            "Epoch 17/20\n",
            "Epoch 18/20\n",
            "Epoch 19/20\n",
            "Epoch 20/20\n"
          ],
          "name": "stdout"
        }
      ]
    },
    {
      "cell_type": "code",
      "metadata": {
        "id": "UioTRRIsiGJz",
        "colab": {
          "base_uri": "https://localhost:8080/"
        },
        "outputId": "2e76019d-85b0-4956-ed09-ed2c64e94681"
      },
      "source": [
        "# Simple testing loop\n",
        "for x, y in test_data:\n",
        "  \n",
        "  # Feed inputs to model\n",
        "  output = reg(x)\n",
        "\n",
        "  # Compute loss\n",
        "  test_mae.update_state(y, output)\n",
        "  test_mse.update_state(y, output)\n",
        "\n",
        "  mae_test = test_mae.result().numpy()\n",
        "  mse_test = test_mse.result().numpy()\n",
        "\n",
        "# Adding these metrics to the metrics dict\n",
        "metrics['TensorFlow'] = {'mae': mae_test, 'mse': mse_test}\n",
        "\n",
        "print('MAE: {}\\nMSE: {}'.format(mae_test, mse_test))"
      ],
      "execution_count": null,
      "outputs": [
        {
          "output_type": "stream",
          "text": [
            "MAE: 0.5989264249801636\n",
            "MSE: 0.8686699867248535\n"
          ],
          "name": "stdout"
        }
      ]
    },
    {
      "cell_type": "code",
      "metadata": {
        "colab": {
          "base_uri": "https://localhost:8080/"
        },
        "id": "ej6IXSexn97n",
        "outputId": "c9400532-bc0b-46b0-d50a-f39a44f35dc7"
      },
      "source": [
        "metrics"
      ],
      "execution_count": null,
      "outputs": [
        {
          "output_type": "execute_result",
          "data": {
            "text/plain": [
              "{'Keras': {'mae': 0.6985253744828896, 'mse': 1.1324348410208709},\n",
              " 'PyTorch': {'mae': 0.8268836386868211, 'mse': 1.421962835181091},\n",
              " 'TensorFlow': {'mae': 0.5989264, 'mse': 0.86867}}"
            ]
          },
          "metadata": {
            "tags": []
          },
          "execution_count": 125
        }
      ]
    },
    {
      "cell_type": "code",
      "metadata": {
        "id": "ASZrloAXrkD4"
      },
      "source": [
        "# Defining a training function\n",
        "@tf.function\n",
        "def train_step(features, targets):\n",
        "  # GradientTape keeps track of the computations being performed on the trainable variables\n",
        "  with tf.GradientTape() as tape:\n",
        "    \n",
        "    # Perform forward pass; feed the model with input data\n",
        "    predictions = reg(features)\n",
        "\n",
        "    # Compute loss between model's predictions and the actual target values\n",
        "    loss = loss_object(predictions, targets)\n",
        "\n",
        "  # Calling tape.gradient calculates gradients of the trainable_variables wrt another variable, in this case, loss. \n",
        "  gradients = tape.gradient(loss, reg.trainable_variables)\n",
        "\n",
        "  # Apply gradients to variables\n",
        "  optimizer.apply_gradients(grads_and_vars = zip(gradients, reg.trainable_variables))\n",
        "\n",
        "  # Calculate mean training loss (msle)\n",
        "  train_loss(loss)\n",
        "\n",
        "  # Calculate train MSE & MAE\n",
        "  train_mse(predictions, targets)\n",
        "  train_mae(predictions, targets)\n",
        "\n",
        "# Testing function\n",
        "@tf.function  \n",
        "def test_step(features, targets):\n",
        "  # Directly feed the inputs to the model\n",
        "  preds = reg(features)\n",
        "\n",
        "  # Calculate loss\n",
        "  loss = loss_object(preds, targets)\n",
        "\n",
        "  # Update test loss variable\n",
        "  test_loss(loss)\n",
        "\n",
        "  # Calculate test MSE, MAE\n",
        "  test_mse(preds, targets)\n",
        "  test_mae(preds, targets)"
      ],
      "execution_count": null,
      "outputs": []
    },
    {
      "cell_type": "code",
      "metadata": {
        "colab": {
          "base_uri": "https://localhost:8080/"
        },
        "id": "0S7pT2SqPGq4",
        "outputId": "660ec30e-564e-40aa-8e38-f1debf2ee9e8"
      },
      "source": [
        "train"
      ],
      "execution_count": null,
      "outputs": [
        {
          "output_type": "execute_result",
          "data": {
            "text/plain": [
              "<PrefetchDataset shapes: ((None, 9), (None, 1)), types: (tf.float64, tf.float64)>"
            ]
          },
          "metadata": {
            "tags": []
          },
          "execution_count": 26
        }
      ]
    },
    {
      "cell_type": "code",
      "metadata": {
        "colab": {
          "base_uri": "https://localhost:8080/"
        },
        "id": "uednXx0lYWE2",
        "outputId": "019a5d35-be33-4cde-a665-fd4e66e9a1c0"
      },
      "source": [
        "len(X_train)/ 16\n",
        "pot"
      ],
      "execution_count": null,
      "outputs": [
        {
          "output_type": "execute_result",
          "data": {
            "text/plain": [
              "2077"
            ]
          },
          "metadata": {
            "tags": []
          },
          "execution_count": 48
        }
      ]
    }
  ]
}